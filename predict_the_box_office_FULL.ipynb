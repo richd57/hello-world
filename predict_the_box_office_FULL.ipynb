{
  "nbformat": 4,
  "nbformat_minor": 0,
  "metadata": {
    "colab": {
      "name": "predict_the_box_office_FULL.ipynb",
      "version": "0.3.2",
      "provenance": [],
      "include_colab_link": true
    },
    "kernelspec": {
      "name": "python3",
      "display_name": "Python 3"
    }
  },
  "cells": [
    {
      "cell_type": "markdown",
      "metadata": {
        "id": "view-in-github",
        "colab_type": "text"
      },
      "source": [
        "<a href=\"https://colab.research.google.com/github/richd57/hello-world/blob/master/predict_the_box_office_FULL.ipynb\" target=\"_parent\"><img src=\"https://colab.research.google.com/assets/colab-badge.svg\" alt=\"Open In Colab\"/></a>"
      ]
    },
    {
      "cell_type": "code",
      "metadata": {
        "id": "zChTaZdcrEtZ",
        "colab_type": "code",
        "colab": {}
      },
      "source": [
        "import numpy as np\n",
        "import pandas as pd\n",
        "import matplotlib.pyplot as plt\n",
        "import seaborn as sns\n",
        "from sklearn import tree\n",
        "from sklearn.ensemble import RandomForestRegressor\n",
        "from sklearn.linear_model import LinearRegression\n",
        "from sklearn.metrics import mean_squared_error, r2_score\n",
        "from sklearn.model_selection import train_test_split\n",
        "%matplotlib inline\n",
        "\n",
        "pd.set_option('mode.chained_assignment', None)\n",
        "pd.set_option('display.float_format', '{:,.2f}'.format)"
      ],
      "execution_count": 0,
      "outputs": []
    },
    {
      "cell_type": "code",
      "metadata": {
        "id": "WbPmQnS6qjjN",
        "colab_type": "code",
        "colab": {}
      },
      "source": [
        "data = pd.read_csv(\"https://github.com/autumntoney/predict_the_box_office/raw/master/movie_metadata.csv\")"
      ],
      "execution_count": 0,
      "outputs": []
    },
    {
      "cell_type": "markdown",
      "metadata": {
        "id": "qAFgmjA_sRxy",
        "colab_type": "text"
      },
      "source": [
        "## Taking a look at the data"
      ]
    },
    {
      "cell_type": "markdown",
      "metadata": {
        "id": "ktmm74FIsXMp",
        "colab_type": "text"
      },
      "source": [
        "You need to \"run\" the two cells below, to do that select the cell and press:  *`Shift-Enter`*"
      ]
    },
    {
      "cell_type": "code",
      "metadata": {
        "id": "g6L3Xr2wr0Rp",
        "colab_type": "code",
        "outputId": "d0fdf352-77eb-4a09-aa5b-fdc7501cfee4",
        "colab": {
          "base_uri": "https://localhost:8080/",
          "height": 287
        }
      },
      "source": [
        "# Run this cell (to do so press Shift-Enter)\n",
        "data.head(5)"
      ],
      "execution_count": 0,
      "outputs": [
        {
          "output_type": "execute_result",
          "data": {
            "text/html": [
              "<div>\n",
              "<style scoped>\n",
              "    .dataframe tbody tr th:only-of-type {\n",
              "        vertical-align: middle;\n",
              "    }\n",
              "\n",
              "    .dataframe tbody tr th {\n",
              "        vertical-align: top;\n",
              "    }\n",
              "\n",
              "    .dataframe thead th {\n",
              "        text-align: right;\n",
              "    }\n",
              "</style>\n",
              "<table border=\"1\" class=\"dataframe\">\n",
              "  <thead>\n",
              "    <tr style=\"text-align: right;\">\n",
              "      <th></th>\n",
              "      <th>color</th>\n",
              "      <th>director_name</th>\n",
              "      <th>num_critic_for_reviews</th>\n",
              "      <th>duration</th>\n",
              "      <th>director_facebook_likes</th>\n",
              "      <th>actor_3_facebook_likes</th>\n",
              "      <th>actor_2_name</th>\n",
              "      <th>actor_1_facebook_likes</th>\n",
              "      <th>gross</th>\n",
              "      <th>genres</th>\n",
              "      <th>...</th>\n",
              "      <th>num_user_for_reviews</th>\n",
              "      <th>language</th>\n",
              "      <th>country</th>\n",
              "      <th>content_rating</th>\n",
              "      <th>budget</th>\n",
              "      <th>title_year</th>\n",
              "      <th>actor_2_facebook_likes</th>\n",
              "      <th>imdb_score</th>\n",
              "      <th>aspect_ratio</th>\n",
              "      <th>movie_facebook_likes</th>\n",
              "    </tr>\n",
              "  </thead>\n",
              "  <tbody>\n",
              "    <tr>\n",
              "      <th>0</th>\n",
              "      <td>Color</td>\n",
              "      <td>James Cameron</td>\n",
              "      <td>723.00</td>\n",
              "      <td>178.00</td>\n",
              "      <td>0.00</td>\n",
              "      <td>855.00</td>\n",
              "      <td>Joel David Moore</td>\n",
              "      <td>1,000.00</td>\n",
              "      <td>760,505,847.00</td>\n",
              "      <td>Action|Adventure|Fantasy|Sci-Fi</td>\n",
              "      <td>...</td>\n",
              "      <td>3,054.00</td>\n",
              "      <td>English</td>\n",
              "      <td>USA</td>\n",
              "      <td>PG-13</td>\n",
              "      <td>237,000,000.00</td>\n",
              "      <td>2,009.00</td>\n",
              "      <td>936.00</td>\n",
              "      <td>7.90</td>\n",
              "      <td>1.78</td>\n",
              "      <td>33000</td>\n",
              "    </tr>\n",
              "    <tr>\n",
              "      <th>1</th>\n",
              "      <td>Color</td>\n",
              "      <td>Gore Verbinski</td>\n",
              "      <td>302.00</td>\n",
              "      <td>169.00</td>\n",
              "      <td>563.00</td>\n",
              "      <td>1,000.00</td>\n",
              "      <td>Orlando Bloom</td>\n",
              "      <td>40,000.00</td>\n",
              "      <td>309,404,152.00</td>\n",
              "      <td>Action|Adventure|Fantasy</td>\n",
              "      <td>...</td>\n",
              "      <td>1,238.00</td>\n",
              "      <td>English</td>\n",
              "      <td>USA</td>\n",
              "      <td>PG-13</td>\n",
              "      <td>300,000,000.00</td>\n",
              "      <td>2,007.00</td>\n",
              "      <td>5,000.00</td>\n",
              "      <td>7.10</td>\n",
              "      <td>2.35</td>\n",
              "      <td>0</td>\n",
              "    </tr>\n",
              "    <tr>\n",
              "      <th>2</th>\n",
              "      <td>Color</td>\n",
              "      <td>Sam Mendes</td>\n",
              "      <td>602.00</td>\n",
              "      <td>148.00</td>\n",
              "      <td>0.00</td>\n",
              "      <td>161.00</td>\n",
              "      <td>Rory Kinnear</td>\n",
              "      <td>11,000.00</td>\n",
              "      <td>200,074,175.00</td>\n",
              "      <td>Action|Adventure|Thriller</td>\n",
              "      <td>...</td>\n",
              "      <td>994.00</td>\n",
              "      <td>English</td>\n",
              "      <td>UK</td>\n",
              "      <td>PG-13</td>\n",
              "      <td>245,000,000.00</td>\n",
              "      <td>2,015.00</td>\n",
              "      <td>393.00</td>\n",
              "      <td>6.80</td>\n",
              "      <td>2.35</td>\n",
              "      <td>85000</td>\n",
              "    </tr>\n",
              "    <tr>\n",
              "      <th>3</th>\n",
              "      <td>Color</td>\n",
              "      <td>Christopher Nolan</td>\n",
              "      <td>813.00</td>\n",
              "      <td>164.00</td>\n",
              "      <td>22,000.00</td>\n",
              "      <td>23,000.00</td>\n",
              "      <td>Christian Bale</td>\n",
              "      <td>27,000.00</td>\n",
              "      <td>448,130,642.00</td>\n",
              "      <td>Action|Thriller</td>\n",
              "      <td>...</td>\n",
              "      <td>2,701.00</td>\n",
              "      <td>English</td>\n",
              "      <td>USA</td>\n",
              "      <td>PG-13</td>\n",
              "      <td>250,000,000.00</td>\n",
              "      <td>2,012.00</td>\n",
              "      <td>23,000.00</td>\n",
              "      <td>8.50</td>\n",
              "      <td>2.35</td>\n",
              "      <td>164000</td>\n",
              "    </tr>\n",
              "    <tr>\n",
              "      <th>4</th>\n",
              "      <td>NaN</td>\n",
              "      <td>Doug Walker</td>\n",
              "      <td>nan</td>\n",
              "      <td>nan</td>\n",
              "      <td>131.00</td>\n",
              "      <td>nan</td>\n",
              "      <td>Rob Walker</td>\n",
              "      <td>131.00</td>\n",
              "      <td>nan</td>\n",
              "      <td>Documentary</td>\n",
              "      <td>...</td>\n",
              "      <td>nan</td>\n",
              "      <td>NaN</td>\n",
              "      <td>NaN</td>\n",
              "      <td>NaN</td>\n",
              "      <td>nan</td>\n",
              "      <td>nan</td>\n",
              "      <td>12.00</td>\n",
              "      <td>7.10</td>\n",
              "      <td>nan</td>\n",
              "      <td>0</td>\n",
              "    </tr>\n",
              "  </tbody>\n",
              "</table>\n",
              "<p>5 rows × 28 columns</p>\n",
              "</div>"
            ],
            "text/plain": [
              "   color      director_name  num_critic_for_reviews  duration  \\\n",
              "0  Color      James Cameron                  723.00    178.00   \n",
              "1  Color     Gore Verbinski                  302.00    169.00   \n",
              "2  Color         Sam Mendes                  602.00    148.00   \n",
              "3  Color  Christopher Nolan                  813.00    164.00   \n",
              "4    NaN        Doug Walker                     nan       nan   \n",
              "\n",
              "   director_facebook_likes  actor_3_facebook_likes      actor_2_name  \\\n",
              "0                     0.00                  855.00  Joel David Moore   \n",
              "1                   563.00                1,000.00     Orlando Bloom   \n",
              "2                     0.00                  161.00      Rory Kinnear   \n",
              "3                22,000.00               23,000.00    Christian Bale   \n",
              "4                   131.00                     nan        Rob Walker   \n",
              "\n",
              "   actor_1_facebook_likes          gross                           genres  \\\n",
              "0                1,000.00 760,505,847.00  Action|Adventure|Fantasy|Sci-Fi   \n",
              "1               40,000.00 309,404,152.00         Action|Adventure|Fantasy   \n",
              "2               11,000.00 200,074,175.00        Action|Adventure|Thriller   \n",
              "3               27,000.00 448,130,642.00                  Action|Thriller   \n",
              "4                  131.00            nan                      Documentary   \n",
              "\n",
              "          ...          num_user_for_reviews language  country  content_rating  \\\n",
              "0         ...                      3,054.00  English      USA           PG-13   \n",
              "1         ...                      1,238.00  English      USA           PG-13   \n",
              "2         ...                        994.00  English       UK           PG-13   \n",
              "3         ...                      2,701.00  English      USA           PG-13   \n",
              "4         ...                           nan      NaN      NaN             NaN   \n",
              "\n",
              "          budget  title_year actor_2_facebook_likes imdb_score  aspect_ratio  \\\n",
              "0 237,000,000.00    2,009.00                 936.00       7.90          1.78   \n",
              "1 300,000,000.00    2,007.00               5,000.00       7.10          2.35   \n",
              "2 245,000,000.00    2,015.00                 393.00       6.80          2.35   \n",
              "3 250,000,000.00    2,012.00              23,000.00       8.50          2.35   \n",
              "4            nan         nan                  12.00       7.10           nan   \n",
              "\n",
              "  movie_facebook_likes  \n",
              "0                33000  \n",
              "1                    0  \n",
              "2                85000  \n",
              "3               164000  \n",
              "4                    0  \n",
              "\n",
              "[5 rows x 28 columns]"
            ]
          },
          "metadata": {
            "tags": []
          },
          "execution_count": 4
        }
      ]
    },
    {
      "cell_type": "code",
      "metadata": {
        "id": "TJ_6QL6asZ35",
        "colab_type": "code",
        "outputId": "d954a2a9-ecb3-4685-a133-699b16d889dd",
        "colab": {
          "base_uri": "https://localhost:8080/",
          "height": 34
        }
      },
      "source": [
        "data.shape"
      ],
      "execution_count": 0,
      "outputs": [
        {
          "output_type": "execute_result",
          "data": {
            "text/plain": [
              "(5043, 28)"
            ]
          },
          "metadata": {
            "tags": []
          },
          "execution_count": 5
        }
      ]
    },
    {
      "cell_type": "code",
      "metadata": {
        "id": "dQGgzLkhscRK",
        "colab_type": "code",
        "outputId": "a2b24e33-da82-47b0-c5a7-2a4a2a812547",
        "colab": {
          "base_uri": "https://localhost:8080/",
          "height": 317
        }
      },
      "source": [
        "data.describe()"
      ],
      "execution_count": 0,
      "outputs": [
        {
          "output_type": "execute_result",
          "data": {
            "text/html": [
              "<div>\n",
              "<style scoped>\n",
              "    .dataframe tbody tr th:only-of-type {\n",
              "        vertical-align: middle;\n",
              "    }\n",
              "\n",
              "    .dataframe tbody tr th {\n",
              "        vertical-align: top;\n",
              "    }\n",
              "\n",
              "    .dataframe thead th {\n",
              "        text-align: right;\n",
              "    }\n",
              "</style>\n",
              "<table border=\"1\" class=\"dataframe\">\n",
              "  <thead>\n",
              "    <tr style=\"text-align: right;\">\n",
              "      <th></th>\n",
              "      <th>num_critic_for_reviews</th>\n",
              "      <th>duration</th>\n",
              "      <th>director_facebook_likes</th>\n",
              "      <th>actor_3_facebook_likes</th>\n",
              "      <th>actor_1_facebook_likes</th>\n",
              "      <th>gross</th>\n",
              "      <th>num_voted_users</th>\n",
              "      <th>cast_total_facebook_likes</th>\n",
              "      <th>facenumber_in_poster</th>\n",
              "      <th>num_user_for_reviews</th>\n",
              "      <th>budget</th>\n",
              "      <th>title_year</th>\n",
              "      <th>actor_2_facebook_likes</th>\n",
              "      <th>imdb_score</th>\n",
              "      <th>aspect_ratio</th>\n",
              "      <th>movie_facebook_likes</th>\n",
              "    </tr>\n",
              "  </thead>\n",
              "  <tbody>\n",
              "    <tr>\n",
              "      <th>count</th>\n",
              "      <td>4,993.00</td>\n",
              "      <td>5,028.00</td>\n",
              "      <td>4,939.00</td>\n",
              "      <td>5,020.00</td>\n",
              "      <td>5,036.00</td>\n",
              "      <td>4,159.00</td>\n",
              "      <td>5,043.00</td>\n",
              "      <td>5,043.00</td>\n",
              "      <td>5,030.00</td>\n",
              "      <td>5,022.00</td>\n",
              "      <td>4,551.00</td>\n",
              "      <td>4,935.00</td>\n",
              "      <td>5,030.00</td>\n",
              "      <td>5,043.00</td>\n",
              "      <td>4,714.00</td>\n",
              "      <td>5,043.00</td>\n",
              "    </tr>\n",
              "    <tr>\n",
              "      <th>mean</th>\n",
              "      <td>140.19</td>\n",
              "      <td>107.20</td>\n",
              "      <td>686.51</td>\n",
              "      <td>645.01</td>\n",
              "      <td>6,560.05</td>\n",
              "      <td>48,507,385.63</td>\n",
              "      <td>83,668.16</td>\n",
              "      <td>9,699.06</td>\n",
              "      <td>1.37</td>\n",
              "      <td>272.77</td>\n",
              "      <td>39,752,620.44</td>\n",
              "      <td>2,002.47</td>\n",
              "      <td>1,651.75</td>\n",
              "      <td>6.44</td>\n",
              "      <td>2.22</td>\n",
              "      <td>7,525.96</td>\n",
              "    </tr>\n",
              "    <tr>\n",
              "      <th>std</th>\n",
              "      <td>121.60</td>\n",
              "      <td>25.20</td>\n",
              "      <td>2,813.33</td>\n",
              "      <td>1,665.04</td>\n",
              "      <td>15,020.76</td>\n",
              "      <td>68,471,915.43</td>\n",
              "      <td>138,485.26</td>\n",
              "      <td>18,163.80</td>\n",
              "      <td>2.01</td>\n",
              "      <td>377.98</td>\n",
              "      <td>206,114,898.45</td>\n",
              "      <td>12.47</td>\n",
              "      <td>4,042.44</td>\n",
              "      <td>1.13</td>\n",
              "      <td>1.39</td>\n",
              "      <td>19,320.45</td>\n",
              "    </tr>\n",
              "    <tr>\n",
              "      <th>min</th>\n",
              "      <td>1.00</td>\n",
              "      <td>7.00</td>\n",
              "      <td>0.00</td>\n",
              "      <td>0.00</td>\n",
              "      <td>0.00</td>\n",
              "      <td>162.00</td>\n",
              "      <td>5.00</td>\n",
              "      <td>0.00</td>\n",
              "      <td>0.00</td>\n",
              "      <td>1.00</td>\n",
              "      <td>218.00</td>\n",
              "      <td>1,916.00</td>\n",
              "      <td>0.00</td>\n",
              "      <td>1.60</td>\n",
              "      <td>1.18</td>\n",
              "      <td>0.00</td>\n",
              "    </tr>\n",
              "    <tr>\n",
              "      <th>25%</th>\n",
              "      <td>50.00</td>\n",
              "      <td>93.00</td>\n",
              "      <td>7.00</td>\n",
              "      <td>133.00</td>\n",
              "      <td>614.00</td>\n",
              "      <td>5,351,178.00</td>\n",
              "      <td>8,593.50</td>\n",
              "      <td>1,411.00</td>\n",
              "      <td>0.00</td>\n",
              "      <td>65.00</td>\n",
              "      <td>6,000,000.00</td>\n",
              "      <td>1,999.00</td>\n",
              "      <td>281.00</td>\n",
              "      <td>5.80</td>\n",
              "      <td>1.85</td>\n",
              "      <td>0.00</td>\n",
              "    </tr>\n",
              "    <tr>\n",
              "      <th>50%</th>\n",
              "      <td>110.00</td>\n",
              "      <td>103.00</td>\n",
              "      <td>49.00</td>\n",
              "      <td>371.50</td>\n",
              "      <td>988.00</td>\n",
              "      <td>25,528,495.00</td>\n",
              "      <td>34,359.00</td>\n",
              "      <td>3,090.00</td>\n",
              "      <td>1.00</td>\n",
              "      <td>156.00</td>\n",
              "      <td>20,000,000.00</td>\n",
              "      <td>2,005.00</td>\n",
              "      <td>595.00</td>\n",
              "      <td>6.60</td>\n",
              "      <td>2.35</td>\n",
              "      <td>166.00</td>\n",
              "    </tr>\n",
              "    <tr>\n",
              "      <th>75%</th>\n",
              "      <td>195.00</td>\n",
              "      <td>118.00</td>\n",
              "      <td>194.50</td>\n",
              "      <td>636.00</td>\n",
              "      <td>11,000.00</td>\n",
              "      <td>62,319,957.00</td>\n",
              "      <td>96,309.00</td>\n",
              "      <td>13,756.50</td>\n",
              "      <td>2.00</td>\n",
              "      <td>326.00</td>\n",
              "      <td>45,000,000.00</td>\n",
              "      <td>2,011.00</td>\n",
              "      <td>918.00</td>\n",
              "      <td>7.20</td>\n",
              "      <td>2.35</td>\n",
              "      <td>3,000.00</td>\n",
              "    </tr>\n",
              "    <tr>\n",
              "      <th>max</th>\n",
              "      <td>813.00</td>\n",
              "      <td>511.00</td>\n",
              "      <td>23,000.00</td>\n",
              "      <td>23,000.00</td>\n",
              "      <td>640,000.00</td>\n",
              "      <td>760,505,847.00</td>\n",
              "      <td>1,689,764.00</td>\n",
              "      <td>656,730.00</td>\n",
              "      <td>43.00</td>\n",
              "      <td>5,060.00</td>\n",
              "      <td>12,215,500,000.00</td>\n",
              "      <td>2,016.00</td>\n",
              "      <td>137,000.00</td>\n",
              "      <td>9.50</td>\n",
              "      <td>16.00</td>\n",
              "      <td>349,000.00</td>\n",
              "    </tr>\n",
              "  </tbody>\n",
              "</table>\n",
              "</div>"
            ],
            "text/plain": [
              "       num_critic_for_reviews  duration  director_facebook_likes  \\\n",
              "count                4,993.00  5,028.00                 4,939.00   \n",
              "mean                   140.19    107.20                   686.51   \n",
              "std                    121.60     25.20                 2,813.33   \n",
              "min                      1.00      7.00                     0.00   \n",
              "25%                     50.00     93.00                     7.00   \n",
              "50%                    110.00    103.00                    49.00   \n",
              "75%                    195.00    118.00                   194.50   \n",
              "max                    813.00    511.00                23,000.00   \n",
              "\n",
              "       actor_3_facebook_likes  actor_1_facebook_likes          gross  \\\n",
              "count                5,020.00                5,036.00       4,159.00   \n",
              "mean                   645.01                6,560.05  48,507,385.63   \n",
              "std                  1,665.04               15,020.76  68,471,915.43   \n",
              "min                      0.00                    0.00         162.00   \n",
              "25%                    133.00                  614.00   5,351,178.00   \n",
              "50%                    371.50                  988.00  25,528,495.00   \n",
              "75%                    636.00               11,000.00  62,319,957.00   \n",
              "max                 23,000.00              640,000.00 760,505,847.00   \n",
              "\n",
              "       num_voted_users  cast_total_facebook_likes  facenumber_in_poster  \\\n",
              "count         5,043.00                   5,043.00              5,030.00   \n",
              "mean         83,668.16                   9,699.06                  1.37   \n",
              "std         138,485.26                  18,163.80                  2.01   \n",
              "min               5.00                       0.00                  0.00   \n",
              "25%           8,593.50                   1,411.00                  0.00   \n",
              "50%          34,359.00                   3,090.00                  1.00   \n",
              "75%          96,309.00                  13,756.50                  2.00   \n",
              "max       1,689,764.00                 656,730.00                 43.00   \n",
              "\n",
              "       num_user_for_reviews            budget  title_year  \\\n",
              "count              5,022.00          4,551.00    4,935.00   \n",
              "mean                 272.77     39,752,620.44    2,002.47   \n",
              "std                  377.98    206,114,898.45       12.47   \n",
              "min                    1.00            218.00    1,916.00   \n",
              "25%                   65.00      6,000,000.00    1,999.00   \n",
              "50%                  156.00     20,000,000.00    2,005.00   \n",
              "75%                  326.00     45,000,000.00    2,011.00   \n",
              "max                5,060.00 12,215,500,000.00    2,016.00   \n",
              "\n",
              "       actor_2_facebook_likes  imdb_score  aspect_ratio  movie_facebook_likes  \n",
              "count                5,030.00    5,043.00      4,714.00              5,043.00  \n",
              "mean                 1,651.75        6.44          2.22              7,525.96  \n",
              "std                  4,042.44        1.13          1.39             19,320.45  \n",
              "min                      0.00        1.60          1.18                  0.00  \n",
              "25%                    281.00        5.80          1.85                  0.00  \n",
              "50%                    595.00        6.60          2.35                166.00  \n",
              "75%                    918.00        7.20          2.35              3,000.00  \n",
              "max                137,000.00        9.50         16.00            349,000.00  "
            ]
          },
          "metadata": {
            "tags": []
          },
          "execution_count": 6
        }
      ]
    },
    {
      "cell_type": "markdown",
      "metadata": {
        "id": "oXnft-sbse7a",
        "colab_type": "text"
      },
      "source": [
        "Some key points from this table:\n",
        "- Avg movie duration is 107.2 minutes\n",
        "- Avg imdb is 6.44\n",
        "- Avg number of users reviews is 272"
      ]
    },
    {
      "cell_type": "markdown",
      "metadata": {
        "id": "KnRhKiOzshuq",
        "colab_type": "text"
      },
      "source": [
        "## Cleaning the data"
      ]
    },
    {
      "cell_type": "markdown",
      "metadata": {
        "id": "EltETvi2sjZT",
        "colab_type": "text"
      },
      "source": [
        "### Dealing with duplicates\n"
      ]
    },
    {
      "cell_type": "code",
      "metadata": {
        "id": "X-vWGP6VsfgS",
        "colab_type": "code",
        "outputId": "380b8182-ac9c-4622-caeb-33ccc50c09f1",
        "colab": {
          "base_uri": "https://localhost:8080/",
          "height": 34
        }
      },
      "source": [
        "print ('Number of duplicates in data: {}'.format(\n",
        "    sum(data.duplicated(subset=['movie_title', 'title_year'], keep=False))))"
      ],
      "execution_count": 0,
      "outputs": [
        {
          "output_type": "stream",
          "text": [
            "Number of duplicates in data: 241\n"
          ],
          "name": "stdout"
        }
      ]
    },
    {
      "cell_type": "code",
      "metadata": {
        "id": "9hxYGx8Osl_q",
        "colab_type": "code",
        "colab": {}
      },
      "source": [
        "data = data.drop_duplicates(subset=['movie_title', 'title_year'], keep='first').copy()"
      ],
      "execution_count": 0,
      "outputs": []
    },
    {
      "cell_type": "markdown",
      "metadata": {
        "id": "6GGnuSQVson0",
        "colab_type": "text"
      },
      "source": [
        "### Fixing Null and some zero values"
      ]
    },
    {
      "cell_type": "code",
      "metadata": {
        "id": "T6ApFivRsni6",
        "colab_type": "code",
        "outputId": "d7c4b226-a147-4ddb-93da-9cd34e0cda4c",
        "colab": {
          "base_uri": "https://localhost:8080/",
          "height": 34
        }
      },
      "source": [
        "# check if data has any null/nan values\n",
        "data.isnull().values.any()"
      ],
      "execution_count": 0,
      "outputs": [
        {
          "output_type": "execute_result",
          "data": {
            "text/plain": [
              "True"
            ]
          },
          "metadata": {
            "tags": []
          },
          "execution_count": 9
        }
      ]
    },
    {
      "cell_type": "code",
      "metadata": {
        "id": "8-ZzYJlsspH5",
        "colab_type": "code",
        "outputId": "c4ae04d8-14fe-4be5-c382-849c2827e82a",
        "colab": {
          "base_uri": "https://localhost:8080/",
          "height": 204
        }
      },
      "source": [
        "# Check how many values are null in each column\n",
        "def show_missing_data(data):\n",
        "    missing_data = data.isnull().sum().reset_index()\n",
        "    missing_data.columns = ['column_name', 'missing_count']\n",
        "    missing_data['filling_factor'] = (data.shape[0] - missing_data['missing_count']) / data.shape[0] * 100\n",
        "    return missing_data.sort_values('filling_factor').reset_index(drop=True)\n",
        "\n",
        "show_missing_data(data)[:5]"
      ],
      "execution_count": 0,
      "outputs": [
        {
          "output_type": "execute_result",
          "data": {
            "text/html": [
              "<div>\n",
              "<style scoped>\n",
              "    .dataframe tbody tr th:only-of-type {\n",
              "        vertical-align: middle;\n",
              "    }\n",
              "\n",
              "    .dataframe tbody tr th {\n",
              "        vertical-align: top;\n",
              "    }\n",
              "\n",
              "    .dataframe thead th {\n",
              "        text-align: right;\n",
              "    }\n",
              "</style>\n",
              "<table border=\"1\" class=\"dataframe\">\n",
              "  <thead>\n",
              "    <tr style=\"text-align: right;\">\n",
              "      <th></th>\n",
              "      <th>column_name</th>\n",
              "      <th>missing_count</th>\n",
              "      <th>filling_factor</th>\n",
              "    </tr>\n",
              "  </thead>\n",
              "  <tbody>\n",
              "    <tr>\n",
              "      <th>0</th>\n",
              "      <td>gross</td>\n",
              "      <td>863</td>\n",
              "      <td>82.46</td>\n",
              "    </tr>\n",
              "    <tr>\n",
              "      <th>1</th>\n",
              "      <td>budget</td>\n",
              "      <td>485</td>\n",
              "      <td>90.14</td>\n",
              "    </tr>\n",
              "    <tr>\n",
              "      <th>2</th>\n",
              "      <td>aspect_ratio</td>\n",
              "      <td>326</td>\n",
              "      <td>93.37</td>\n",
              "    </tr>\n",
              "    <tr>\n",
              "      <th>3</th>\n",
              "      <td>content_rating</td>\n",
              "      <td>301</td>\n",
              "      <td>93.88</td>\n",
              "    </tr>\n",
              "    <tr>\n",
              "      <th>4</th>\n",
              "      <td>plot_keywords</td>\n",
              "      <td>152</td>\n",
              "      <td>96.91</td>\n",
              "    </tr>\n",
              "  </tbody>\n",
              "</table>\n",
              "</div>"
            ],
            "text/plain": [
              "      column_name  missing_count  filling_factor\n",
              "0           gross            863           82.46\n",
              "1          budget            485           90.14\n",
              "2    aspect_ratio            326           93.37\n",
              "3  content_rating            301           93.88\n",
              "4   plot_keywords            152           96.91"
            ]
          },
          "metadata": {
            "tags": []
          },
          "execution_count": 10
        }
      ]
    },
    {
      "cell_type": "markdown",
      "metadata": {
        "id": "SbFB8pMXst8b",
        "colab_type": "text"
      },
      "source": [
        "As we are working with the Gross Box Office, rows without it are of no use. So we will exclude those films that are missing the Gross Box Office."
      ]
    },
    {
      "cell_type": "code",
      "metadata": {
        "id": "fOW3FfHjssQK",
        "colab_type": "code",
        "outputId": "172ae8de-1a53-4cc6-b16c-2cf779bd69e9",
        "colab": {
          "base_uri": "https://localhost:8080/",
          "height": 204
        }
      },
      "source": [
        "data.dropna(subset=['gross'], how='all', inplace=True)\n",
        "show_missing_data(data)[:5]"
      ],
      "execution_count": 0,
      "outputs": [
        {
          "output_type": "execute_result",
          "data": {
            "text/html": [
              "<div>\n",
              "<style scoped>\n",
              "    .dataframe tbody tr th:only-of-type {\n",
              "        vertical-align: middle;\n",
              "    }\n",
              "\n",
              "    .dataframe tbody tr th {\n",
              "        vertical-align: top;\n",
              "    }\n",
              "\n",
              "    .dataframe thead th {\n",
              "        text-align: right;\n",
              "    }\n",
              "</style>\n",
              "<table border=\"1\" class=\"dataframe\">\n",
              "  <thead>\n",
              "    <tr style=\"text-align: right;\">\n",
              "      <th></th>\n",
              "      <th>column_name</th>\n",
              "      <th>missing_count</th>\n",
              "      <th>filling_factor</th>\n",
              "    </tr>\n",
              "  </thead>\n",
              "  <tbody>\n",
              "    <tr>\n",
              "      <th>0</th>\n",
              "      <td>budget</td>\n",
              "      <td>266</td>\n",
              "      <td>93.44</td>\n",
              "    </tr>\n",
              "    <tr>\n",
              "      <th>1</th>\n",
              "      <td>aspect_ratio</td>\n",
              "      <td>104</td>\n",
              "      <td>97.44</td>\n",
              "    </tr>\n",
              "    <tr>\n",
              "      <th>2</th>\n",
              "      <td>content_rating</td>\n",
              "      <td>64</td>\n",
              "      <td>98.42</td>\n",
              "    </tr>\n",
              "    <tr>\n",
              "      <th>3</th>\n",
              "      <td>plot_keywords</td>\n",
              "      <td>40</td>\n",
              "      <td>99.01</td>\n",
              "    </tr>\n",
              "    <tr>\n",
              "      <th>4</th>\n",
              "      <td>actor_3_name</td>\n",
              "      <td>13</td>\n",
              "      <td>99.68</td>\n",
              "    </tr>\n",
              "  </tbody>\n",
              "</table>\n",
              "</div>"
            ],
            "text/plain": [
              "      column_name  missing_count  filling_factor\n",
              "0          budget            266           93.44\n",
              "1    aspect_ratio            104           97.44\n",
              "2  content_rating             64           98.42\n",
              "3   plot_keywords             40           99.01\n",
              "4    actor_3_name             13           99.68"
            ]
          },
          "metadata": {
            "tags": []
          },
          "execution_count": 11
        }
      ]
    },
    {
      "cell_type": "markdown",
      "metadata": {
        "id": "Cn3tXQiksyvy",
        "colab_type": "text"
      },
      "source": [
        "Fill out missing budget datapoints with the median budget for the year it was released."
      ]
    },
    {
      "cell_type": "code",
      "metadata": {
        "id": "ZIXJW9UNsxLS",
        "colab_type": "code",
        "outputId": "c0c7407b-90ce-45f4-ea0d-486c5499089c",
        "colab": {
          "base_uri": "https://localhost:8080/",
          "height": 204
        }
      },
      "source": [
        "median_budget_per_year = data.groupby('title_year')['budget'].transform('median')\n",
        "data['budget'].fillna(median_budget_per_year, inplace=True)\n",
        "\n",
        "show_missing_data(data)[:5]"
      ],
      "execution_count": 0,
      "outputs": [
        {
          "output_type": "execute_result",
          "data": {
            "text/html": [
              "<div>\n",
              "<style scoped>\n",
              "    .dataframe tbody tr th:only-of-type {\n",
              "        vertical-align: middle;\n",
              "    }\n",
              "\n",
              "    .dataframe tbody tr th {\n",
              "        vertical-align: top;\n",
              "    }\n",
              "\n",
              "    .dataframe thead th {\n",
              "        text-align: right;\n",
              "    }\n",
              "</style>\n",
              "<table border=\"1\" class=\"dataframe\">\n",
              "  <thead>\n",
              "    <tr style=\"text-align: right;\">\n",
              "      <th></th>\n",
              "      <th>column_name</th>\n",
              "      <th>missing_count</th>\n",
              "      <th>filling_factor</th>\n",
              "    </tr>\n",
              "  </thead>\n",
              "  <tbody>\n",
              "    <tr>\n",
              "      <th>0</th>\n",
              "      <td>aspect_ratio</td>\n",
              "      <td>104</td>\n",
              "      <td>97.44</td>\n",
              "    </tr>\n",
              "    <tr>\n",
              "      <th>1</th>\n",
              "      <td>content_rating</td>\n",
              "      <td>64</td>\n",
              "      <td>98.42</td>\n",
              "    </tr>\n",
              "    <tr>\n",
              "      <th>2</th>\n",
              "      <td>plot_keywords</td>\n",
              "      <td>40</td>\n",
              "      <td>99.01</td>\n",
              "    </tr>\n",
              "    <tr>\n",
              "      <th>3</th>\n",
              "      <td>actor_3_name</td>\n",
              "      <td>13</td>\n",
              "      <td>99.68</td>\n",
              "    </tr>\n",
              "    <tr>\n",
              "      <th>4</th>\n",
              "      <td>actor_3_facebook_likes</td>\n",
              "      <td>13</td>\n",
              "      <td>99.68</td>\n",
              "    </tr>\n",
              "  </tbody>\n",
              "</table>\n",
              "</div>"
            ],
            "text/plain": [
              "              column_name  missing_count  filling_factor\n",
              "0            aspect_ratio            104           97.44\n",
              "1          content_rating             64           98.42\n",
              "2           plot_keywords             40           99.01\n",
              "3            actor_3_name             13           99.68\n",
              "4  actor_3_facebook_likes             13           99.68"
            ]
          },
          "metadata": {
            "tags": []
          },
          "execution_count": 12
        }
      ]
    },
    {
      "cell_type": "markdown",
      "metadata": {
        "id": "j1ZVap-Is2m6",
        "colab_type": "text"
      },
      "source": [
        "Fill out the rest of the missing data"
      ]
    },
    {
      "cell_type": "code",
      "metadata": {
        "id": "-kbS9qNOszNK",
        "colab_type": "code",
        "colab": {}
      },
      "source": [
        "data.fillna(0, inplace=True)"
      ],
      "execution_count": 0,
      "outputs": []
    },
    {
      "cell_type": "markdown",
      "metadata": {
        "id": "qXygicxRs5s8",
        "colab_type": "text"
      },
      "source": [
        "Delete all rows where `title_year` is zero"
      ]
    },
    {
      "cell_type": "code",
      "metadata": {
        "id": "FNwSYAfHs4Aa",
        "colab_type": "code",
        "colab": {}
      },
      "source": [
        "data = data[data['title_year'] != 0]"
      ],
      "execution_count": 0,
      "outputs": []
    },
    {
      "cell_type": "markdown",
      "metadata": {
        "id": "TM-dUpYDs7fb",
        "colab_type": "text"
      },
      "source": [
        "Budgets are in each country's currency so we are going to use only US movies"
      ]
    },
    {
      "cell_type": "code",
      "metadata": {
        "id": "OX5oiveSs67S",
        "colab_type": "code",
        "colab": {}
      },
      "source": [
        "data = data[data['country'] == 'USA']"
      ],
      "execution_count": 0,
      "outputs": []
    },
    {
      "cell_type": "markdown",
      "metadata": {
        "id": "w93B7tTrs_sC",
        "colab_type": "text"
      },
      "source": [
        "## Understanding the data"
      ]
    },
    {
      "cell_type": "code",
      "metadata": {
        "id": "lkcvcDyQs83C",
        "colab_type": "code",
        "outputId": "96ced034-46fc-4e37-a2a9-23ef1aa3b9c6",
        "colab": {
          "base_uri": "https://localhost:8080/",
          "height": 314
        }
      },
      "source": [
        "# IMDb rating distribution\n",
        "data.hist(column='imdb_score')"
      ],
      "execution_count": 0,
      "outputs": [
        {
          "output_type": "execute_result",
          "data": {
            "text/plain": [
              "array([[<matplotlib.axes._subplots.AxesSubplot object at 0x7fdf9f8ec4e0>]],\n",
              "      dtype=object)"
            ]
          },
          "metadata": {
            "tags": []
          },
          "execution_count": 16
        },
        {
          "output_type": "display_data",
          "data": {
            "image/png": "[encoded data removed]",
            "text/plain": [
              "<matplotlib.figure.Figure at 0x7fdfc69ea320>"
            ]
          },
          "metadata": {
            "tags": []
          }
        }
      ]
    },
    {
      "cell_type": "code",
      "metadata": {
        "id": "mT3yZj43tAHb",
        "colab_type": "code",
        "outputId": "06d3cfcd-b418-4607-9fbc-2996a6f7b41c",
        "colab": {
          "base_uri": "https://localhost:8080/",
          "height": 314
        }
      },
      "source": [
        "# Movies per year\n",
        "data.hist(column='title_year')"
      ],
      "execution_count": 0,
      "outputs": [
        {
          "output_type": "execute_result",
          "data": {
            "text/plain": [
              "array([[<matplotlib.axes._subplots.AxesSubplot object at 0x7fdf9f945e48>]],\n",
              "      dtype=object)"
            ]
          },
          "metadata": {
            "tags": []
          },
          "execution_count": 17
        },
        {
          "output_type": "display_data",
          "data": {
            "image/png": "[encoded data removed]",
            "text/plain": [
              "<matplotlib.figure.Figure at 0x7fdf9e5fd3c8>"
            ]
          },
          "metadata": {
            "tags": []
          }
        }
      ]
    },
    {
      "cell_type": "code",
      "metadata": {
        "id": "IP8LgcL1tDA6",
        "colab_type": "code",
        "outputId": "acf4c7f5-20d4-4d97-94bf-a5ca4329a406",
        "colab": {
          "base_uri": "https://localhost:8080/",
          "height": 529
        }
      },
      "source": [
        "# Median gross box office per actor\n",
        "fig = plt.figure(figsize=(8,8))\n",
        "comparison_df = data.groupby('actor_1_name', as_index=False).mean().sort_values('gross', ascending=False)\n",
        "\n",
        "name_count_key = data['actor_1_name'].value_counts().to_dict()\n",
        "comparison_df['films'] = comparison_df['actor_1_name'].map(name_count_key)\n",
        "\n",
        "comparison_df['actor_1_name'] = comparison_df['actor_1_name'].map(str) + \" (\" + comparison_df['films'].astype(str) + \")\"\n",
        "\n",
        "comparison_df[comparison_df['films'] >= 5][['actor_1_name', 'gross']][10::-1].set_index('actor_1_name').iloc[:,0].plot(kind='barh')\n",
        "plt.legend().set_visible(False)\n",
        "plt.title(\"Median Gross of Actor_1_name's Films\")\n",
        "plt.ylabel(\"Actor_1_name (# films)\")\n",
        "plt.xlabel(\"Gross (in million)\")"
      ],
      "execution_count": 0,
      "outputs": [
        {
          "output_type": "execute_result",
          "data": {
            "text/plain": [
              "Text(0.5,0,'Gross (in million)')"
            ]
          },
          "metadata": {
            "tags": []
          },
          "execution_count": 18
        },
        {
          "output_type": "display_data",
          "data": {
            "image/png": "[encoded data removed]",
            "text/plain": [
              "<matplotlib.figure.Figure at 0x7fdf9bd40748>"
            ]
          },
          "metadata": {
            "tags": []
          }
        }
      ]
    },
    {
      "cell_type": "code",
      "metadata": {
        "id": "-KFNjxldtEZ6",
        "colab_type": "code",
        "outputId": "4bb69e8a-b649-4a08-d8ee-b4141574629c",
        "colab": {
          "base_uri": "https://localhost:8080/",
          "height": 307
        }
      },
      "source": [
        "# title year vs gross\n",
        "data.plot.scatter(x='title_year', y='gross')"
      ],
      "execution_count": 0,
      "outputs": [
        {
          "output_type": "execute_result",
          "data": {
            "text/plain": [
              "<matplotlib.axes._subplots.AxesSubplot at 0x7fdf9e5bb2b0>"
            ]
          },
          "metadata": {
            "tags": []
          },
          "execution_count": 19
        },
        {
          "output_type": "display_data",
          "data": {
            "image/png": "[encoded data removed]",
            "text/plain": [
              "<matplotlib.figure.Figure at 0x7fdf9bd62940>"
            ]
          },
          "metadata": {
            "tags": []
          }
        }
      ]
    },
    {
      "cell_type": "code",
      "metadata": {
        "id": "0W7y4PUjtNIa",
        "colab_type": "code",
        "outputId": "624516b6-850b-4500-ba52-c45d577eab33",
        "colab": {
          "base_uri": "https://localhost:8080/",
          "height": 307
        }
      },
      "source": [
        "# budget vs gross\n",
        "data.plot.scatter(x='budget', y='gross')"
      ],
      "execution_count": 0,
      "outputs": [
        {
          "output_type": "execute_result",
          "data": {
            "text/plain": [
              "<matplotlib.axes._subplots.AxesSubplot at 0x7fdf9f90ec18>"
            ]
          },
          "metadata": {
            "tags": []
          },
          "execution_count": 20
        },
        {
          "output_type": "display_data",
          "data": {
            "image/png": "[encoded data removed]",
            "text/plain": [
              "<matplotlib.figure.Figure at 0x7fdf9bd3f400>"
            ]
          },
          "metadata": {
            "tags": []
          }
        }
      ]
    },
    {
      "cell_type": "code",
      "metadata": {
        "id": "rwBSilJStOaD",
        "colab_type": "code",
        "outputId": "4e44f637-00c2-438d-c86b-98ab522d033b",
        "colab": {
          "base_uri": "https://localhost:8080/",
          "height": 565
        }
      },
      "source": [
        "data.corr()"
      ],
      "execution_count": 0,
      "outputs": [
        {
          "output_type": "execute_result",
          "data": {
            "text/html": [
              "<div>\n",
              "<style scoped>\n",
              "    .dataframe tbody tr th:only-of-type {\n",
              "        vertical-align: middle;\n",
              "    }\n",
              "\n",
              "    .dataframe tbody tr th {\n",
              "        vertical-align: top;\n",
              "    }\n",
              "\n",
              "    .dataframe thead th {\n",
              "        text-align: right;\n",
              "    }\n",
              "</style>\n",
              "<table border=\"1\" class=\"dataframe\">\n",
              "  <thead>\n",
              "    <tr style=\"text-align: right;\">\n",
              "      <th></th>\n",
              "      <th>num_critic_for_reviews</th>\n",
              "      <th>duration</th>\n",
              "      <th>director_facebook_likes</th>\n",
              "      <th>actor_3_facebook_likes</th>\n",
              "      <th>actor_1_facebook_likes</th>\n",
              "      <th>gross</th>\n",
              "      <th>num_voted_users</th>\n",
              "      <th>cast_total_facebook_likes</th>\n",
              "      <th>facenumber_in_poster</th>\n",
              "      <th>num_user_for_reviews</th>\n",
              "      <th>budget</th>\n",
              "      <th>title_year</th>\n",
              "      <th>actor_2_facebook_likes</th>\n",
              "      <th>imdb_score</th>\n",
              "      <th>aspect_ratio</th>\n",
              "      <th>movie_facebook_likes</th>\n",
              "    </tr>\n",
              "  </thead>\n",
              "  <tbody>\n",
              "    <tr>\n",
              "      <th>num_critic_for_reviews</th>\n",
              "      <td>1.00</td>\n",
              "      <td>0.28</td>\n",
              "      <td>0.19</td>\n",
              "      <td>0.28</td>\n",
              "      <td>0.18</td>\n",
              "      <td>0.49</td>\n",
              "      <td>0.61</td>\n",
              "      <td>0.25</td>\n",
              "      <td>-0.03</td>\n",
              "      <td>0.58</td>\n",
              "      <td>0.49</td>\n",
              "      <td>0.39</td>\n",
              "      <td>0.28</td>\n",
              "      <td>0.36</td>\n",
              "      <td>0.24</td>\n",
              "      <td>0.70</td>\n",
              "    </tr>\n",
              "    <tr>\n",
              "      <th>duration</th>\n",
              "      <td>0.28</td>\n",
              "      <td>1.00</td>\n",
              "      <td>0.21</td>\n",
              "      <td>0.14</td>\n",
              "      <td>0.10</td>\n",
              "      <td>0.29</td>\n",
              "      <td>0.37</td>\n",
              "      <td>0.14</td>\n",
              "      <td>0.01</td>\n",
              "      <td>0.37</td>\n",
              "      <td>0.30</td>\n",
              "      <td>-0.11</td>\n",
              "      <td>0.15</td>\n",
              "      <td>0.38</td>\n",
              "      <td>0.18</td>\n",
              "      <td>0.25</td>\n",
              "    </tr>\n",
              "    <tr>\n",
              "      <th>director_facebook_likes</th>\n",
              "      <td>0.19</td>\n",
              "      <td>0.21</td>\n",
              "      <td>1.00</td>\n",
              "      <td>0.13</td>\n",
              "      <td>0.09</td>\n",
              "      <td>0.14</td>\n",
              "      <td>0.32</td>\n",
              "      <td>0.12</td>\n",
              "      <td>-0.05</td>\n",
              "      <td>0.25</td>\n",
              "      <td>0.10</td>\n",
              "      <td>-0.06</td>\n",
              "      <td>0.12</td>\n",
              "      <td>0.22</td>\n",
              "      <td>0.06</td>\n",
              "      <td>0.18</td>\n",
              "    </tr>\n",
              "    <tr>\n",
              "      <th>actor_3_facebook_likes</th>\n",
              "      <td>0.28</td>\n",
              "      <td>0.14</td>\n",
              "      <td>0.13</td>\n",
              "      <td>1.00</td>\n",
              "      <td>0.25</td>\n",
              "      <td>0.28</td>\n",
              "      <td>0.27</td>\n",
              "      <td>0.47</td>\n",
              "      <td>0.10</td>\n",
              "      <td>0.22</td>\n",
              "      <td>0.27</td>\n",
              "      <td>0.12</td>\n",
              "      <td>0.54</td>\n",
              "      <td>0.09</td>\n",
              "      <td>0.07</td>\n",
              "      <td>0.30</td>\n",
              "    </tr>\n",
              "    <tr>\n",
              "      <th>actor_1_facebook_likes</th>\n",
              "      <td>0.18</td>\n",
              "      <td>0.10</td>\n",
              "      <td>0.09</td>\n",
              "      <td>0.25</td>\n",
              "      <td>1.00</td>\n",
              "      <td>0.13</td>\n",
              "      <td>0.18</td>\n",
              "      <td>0.95</td>\n",
              "      <td>0.06</td>\n",
              "      <td>0.13</td>\n",
              "      <td>0.15</td>\n",
              "      <td>0.09</td>\n",
              "      <td>0.38</td>\n",
              "      <td>0.12</td>\n",
              "      <td>0.07</td>\n",
              "      <td>0.13</td>\n",
              "    </tr>\n",
              "    <tr>\n",
              "      <th>gross</th>\n",
              "      <td>0.49</td>\n",
              "      <td>0.29</td>\n",
              "      <td>0.14</td>\n",
              "      <td>0.28</td>\n",
              "      <td>0.13</td>\n",
              "      <td>1.00</td>\n",
              "      <td>0.64</td>\n",
              "      <td>0.22</td>\n",
              "      <td>-0.03</td>\n",
              "      <td>0.56</td>\n",
              "      <td>0.65</td>\n",
              "      <td>0.03</td>\n",
              "      <td>0.24</td>\n",
              "      <td>0.26</td>\n",
              "      <td>0.13</td>\n",
              "      <td>0.38</td>\n",
              "    </tr>\n",
              "    <tr>\n",
              "      <th>num_voted_users</th>\n",
              "      <td>0.61</td>\n",
              "      <td>0.37</td>\n",
              "      <td>0.32</td>\n",
              "      <td>0.27</td>\n",
              "      <td>0.18</td>\n",
              "      <td>0.64</td>\n",
              "      <td>1.00</td>\n",
              "      <td>0.25</td>\n",
              "      <td>-0.04</td>\n",
              "      <td>0.79</td>\n",
              "      <td>0.42</td>\n",
              "      <td>0.02</td>\n",
              "      <td>0.25</td>\n",
              "      <td>0.50</td>\n",
              "      <td>0.14</td>\n",
              "      <td>0.53</td>\n",
              "    </tr>\n",
              "    <tr>\n",
              "      <th>cast_total_facebook_likes</th>\n",
              "      <td>0.25</td>\n",
              "      <td>0.14</td>\n",
              "      <td>0.12</td>\n",
              "      <td>0.47</td>\n",
              "      <td>0.95</td>\n",
              "      <td>0.22</td>\n",
              "      <td>0.25</td>\n",
              "      <td>1.00</td>\n",
              "      <td>0.08</td>\n",
              "      <td>0.19</td>\n",
              "      <td>0.23</td>\n",
              "      <td>0.12</td>\n",
              "      <td>0.62</td>\n",
              "      <td>0.13</td>\n",
              "      <td>0.09</td>\n",
              "      <td>0.21</td>\n",
              "    </tr>\n",
              "    <tr>\n",
              "      <th>facenumber_in_poster</th>\n",
              "      <td>-0.03</td>\n",
              "      <td>0.01</td>\n",
              "      <td>-0.05</td>\n",
              "      <td>0.10</td>\n",
              "      <td>0.06</td>\n",
              "      <td>-0.03</td>\n",
              "      <td>-0.04</td>\n",
              "      <td>0.08</td>\n",
              "      <td>1.00</td>\n",
              "      <td>-0.08</td>\n",
              "      <td>-0.03</td>\n",
              "      <td>0.08</td>\n",
              "      <td>0.07</td>\n",
              "      <td>-0.08</td>\n",
              "      <td>0.01</td>\n",
              "      <td>0.01</td>\n",
              "    </tr>\n",
              "    <tr>\n",
              "      <th>num_user_for_reviews</th>\n",
              "      <td>0.58</td>\n",
              "      <td>0.37</td>\n",
              "      <td>0.25</td>\n",
              "      <td>0.22</td>\n",
              "      <td>0.13</td>\n",
              "      <td>0.56</td>\n",
              "      <td>0.79</td>\n",
              "      <td>0.19</td>\n",
              "      <td>-0.08</td>\n",
              "      <td>1.00</td>\n",
              "      <td>0.42</td>\n",
              "      <td>0.02</td>\n",
              "      <td>0.20</td>\n",
              "      <td>0.34</td>\n",
              "      <td>0.15</td>\n",
              "      <td>0.40</td>\n",
              "    </tr>\n",
              "    <tr>\n",
              "      <th>budget</th>\n",
              "      <td>0.49</td>\n",
              "      <td>0.30</td>\n",
              "      <td>0.10</td>\n",
              "      <td>0.27</td>\n",
              "      <td>0.15</td>\n",
              "      <td>0.65</td>\n",
              "      <td>0.42</td>\n",
              "      <td>0.23</td>\n",
              "      <td>-0.03</td>\n",
              "      <td>0.42</td>\n",
              "      <td>1.00</td>\n",
              "      <td>0.22</td>\n",
              "      <td>0.24</td>\n",
              "      <td>0.07</td>\n",
              "      <td>0.20</td>\n",
              "      <td>0.33</td>\n",
              "    </tr>\n",
              "    <tr>\n",
              "      <th>title_year</th>\n",
              "      <td>0.39</td>\n",
              "      <td>-0.11</td>\n",
              "      <td>-0.06</td>\n",
              "      <td>0.12</td>\n",
              "      <td>0.09</td>\n",
              "      <td>0.03</td>\n",
              "      <td>0.02</td>\n",
              "      <td>0.12</td>\n",
              "      <td>0.08</td>\n",
              "      <td>0.02</td>\n",
              "      <td>0.22</td>\n",
              "      <td>1.00</td>\n",
              "      <td>0.12</td>\n",
              "      <td>-0.14</td>\n",
              "      <td>0.12</td>\n",
              "      <td>0.28</td>\n",
              "    </tr>\n",
              "    <tr>\n",
              "      <th>actor_2_facebook_likes</th>\n",
              "      <td>0.28</td>\n",
              "      <td>0.15</td>\n",
              "      <td>0.12</td>\n",
              "      <td>0.54</td>\n",
              "      <td>0.38</td>\n",
              "      <td>0.24</td>\n",
              "      <td>0.25</td>\n",
              "      <td>0.62</td>\n",
              "      <td>0.07</td>\n",
              "      <td>0.20</td>\n",
              "      <td>0.24</td>\n",
              "      <td>0.12</td>\n",
              "      <td>1.00</td>\n",
              "      <td>0.12</td>\n",
              "      <td>0.09</td>\n",
              "      <td>0.24</td>\n",
              "    </tr>\n",
              "    <tr>\n",
              "      <th>imdb_score</th>\n",
              "      <td>0.36</td>\n",
              "      <td>0.38</td>\n",
              "      <td>0.22</td>\n",
              "      <td>0.09</td>\n",
              "      <td>0.12</td>\n",
              "      <td>0.26</td>\n",
              "      <td>0.50</td>\n",
              "      <td>0.13</td>\n",
              "      <td>-0.08</td>\n",
              "      <td>0.34</td>\n",
              "      <td>0.07</td>\n",
              "      <td>-0.14</td>\n",
              "      <td>0.12</td>\n",
              "      <td>1.00</td>\n",
              "      <td>0.04</td>\n",
              "      <td>0.29</td>\n",
              "    </tr>\n",
              "    <tr>\n",
              "      <th>aspect_ratio</th>\n",
              "      <td>0.24</td>\n",
              "      <td>0.18</td>\n",
              "      <td>0.06</td>\n",
              "      <td>0.07</td>\n",
              "      <td>0.07</td>\n",
              "      <td>0.13</td>\n",
              "      <td>0.14</td>\n",
              "      <td>0.09</td>\n",
              "      <td>0.01</td>\n",
              "      <td>0.15</td>\n",
              "      <td>0.20</td>\n",
              "      <td>0.12</td>\n",
              "      <td>0.09</td>\n",
              "      <td>0.04</td>\n",
              "      <td>1.00</td>\n",
              "      <td>0.12</td>\n",
              "    </tr>\n",
              "    <tr>\n",
              "      <th>movie_facebook_likes</th>\n",
              "      <td>0.70</td>\n",
              "      <td>0.25</td>\n",
              "      <td>0.18</td>\n",
              "      <td>0.30</td>\n",
              "      <td>0.13</td>\n",
              "      <td>0.38</td>\n",
              "      <td>0.53</td>\n",
              "      <td>0.21</td>\n",
              "      <td>0.01</td>\n",
              "      <td>0.40</td>\n",
              "      <td>0.33</td>\n",
              "      <td>0.28</td>\n",
              "      <td>0.24</td>\n",
              "      <td>0.29</td>\n",
              "      <td>0.12</td>\n",
              "      <td>1.00</td>\n",
              "    </tr>\n",
              "  </tbody>\n",
              "</table>\n",
              "</div>"
            ],
            "text/plain": [
              "                           num_critic_for_reviews  duration  \\\n",
              "num_critic_for_reviews                       1.00      0.28   \n",
              "duration                                     0.28      1.00   \n",
              "director_facebook_likes                      0.19      0.21   \n",
              "actor_3_facebook_likes                       0.28      0.14   \n",
              "actor_1_facebook_likes                       0.18      0.10   \n",
              "gross                                        0.49      0.29   \n",
              "num_voted_users                              0.61      0.37   \n",
              "cast_total_facebook_likes                    0.25      0.14   \n",
              "facenumber_in_poster                        -0.03      0.01   \n",
              "num_user_for_reviews                         0.58      0.37   \n",
              "budget                                       0.49      0.30   \n",
              "title_year                                   0.39     -0.11   \n",
              "actor_2_facebook_likes                       0.28      0.15   \n",
              "imdb_score                                   0.36      0.38   \n",
              "aspect_ratio                                 0.24      0.18   \n",
              "movie_facebook_likes                         0.70      0.25   \n",
              "\n",
              "                           director_facebook_likes  actor_3_facebook_likes  \\\n",
              "num_critic_for_reviews                        0.19                    0.28   \n",
              "duration                                      0.21                    0.14   \n",
              "director_facebook_likes                       1.00                    0.13   \n",
              "actor_3_facebook_likes                        0.13                    1.00   \n",
              "actor_1_facebook_likes                        0.09                    0.25   \n",
              "gross                                         0.14                    0.28   \n",
              "num_voted_users                               0.32                    0.27   \n",
              "cast_total_facebook_likes                     0.12                    0.47   \n",
              "facenumber_in_poster                         -0.05                    0.10   \n",
              "num_user_for_reviews                          0.25                    0.22   \n",
              "budget                                        0.10                    0.27   \n",
              "title_year                                   -0.06                    0.12   \n",
              "actor_2_facebook_likes                        0.12                    0.54   \n",
              "imdb_score                                    0.22                    0.09   \n",
              "aspect_ratio                                  0.06                    0.07   \n",
              "movie_facebook_likes                          0.18                    0.30   \n",
              "\n",
              "                           actor_1_facebook_likes  gross  num_voted_users  \\\n",
              "num_critic_for_reviews                       0.18   0.49             0.61   \n",
              "duration                                     0.10   0.29             0.37   \n",
              "director_facebook_likes                      0.09   0.14             0.32   \n",
              "actor_3_facebook_likes                       0.25   0.28             0.27   \n",
              "actor_1_facebook_likes                       1.00   0.13             0.18   \n",
              "gross                                        0.13   1.00             0.64   \n",
              "num_voted_users                              0.18   0.64             1.00   \n",
              "cast_total_facebook_likes                    0.95   0.22             0.25   \n",
              "facenumber_in_poster                         0.06  -0.03            -0.04   \n",
              "num_user_for_reviews                         0.13   0.56             0.79   \n",
              "budget                                       0.15   0.65             0.42   \n",
              "title_year                                   0.09   0.03             0.02   \n",
              "actor_2_facebook_likes                       0.38   0.24             0.25   \n",
              "imdb_score                                   0.12   0.26             0.50   \n",
              "aspect_ratio                                 0.07   0.13             0.14   \n",
              "movie_facebook_likes                         0.13   0.38             0.53   \n",
              "\n",
              "                           cast_total_facebook_likes  facenumber_in_poster  \\\n",
              "num_critic_for_reviews                          0.25                 -0.03   \n",
              "duration                                        0.14                  0.01   \n",
              "director_facebook_likes                         0.12                 -0.05   \n",
              "actor_3_facebook_likes                          0.47                  0.10   \n",
              "actor_1_facebook_likes                          0.95                  0.06   \n",
              "gross                                           0.22                 -0.03   \n",
              "num_voted_users                                 0.25                 -0.04   \n",
              "cast_total_facebook_likes                       1.00                  0.08   \n",
              "facenumber_in_poster                            0.08                  1.00   \n",
              "num_user_for_reviews                            0.19                 -0.08   \n",
              "budget                                          0.23                 -0.03   \n",
              "title_year                                      0.12                  0.08   \n",
              "actor_2_facebook_likes                          0.62                  0.07   \n",
              "imdb_score                                      0.13                 -0.08   \n",
              "aspect_ratio                                    0.09                  0.01   \n",
              "movie_facebook_likes                            0.21                  0.01   \n",
              "\n",
              "                           num_user_for_reviews  budget  title_year  \\\n",
              "num_critic_for_reviews                     0.58    0.49        0.39   \n",
              "duration                                   0.37    0.30       -0.11   \n",
              "director_facebook_likes                    0.25    0.10       -0.06   \n",
              "actor_3_facebook_likes                     0.22    0.27        0.12   \n",
              "actor_1_facebook_likes                     0.13    0.15        0.09   \n",
              "gross                                      0.56    0.65        0.03   \n",
              "num_voted_users                            0.79    0.42        0.02   \n",
              "cast_total_facebook_likes                  0.19    0.23        0.12   \n",
              "facenumber_in_poster                      -0.08   -0.03        0.08   \n",
              "num_user_for_reviews                       1.00    0.42        0.02   \n",
              "budget                                     0.42    1.00        0.22   \n",
              "title_year                                 0.02    0.22        1.00   \n",
              "actor_2_facebook_likes                     0.20    0.24        0.12   \n",
              "imdb_score                                 0.34    0.07       -0.14   \n",
              "aspect_ratio                               0.15    0.20        0.12   \n",
              "movie_facebook_likes                       0.40    0.33        0.28   \n",
              "\n",
              "                           actor_2_facebook_likes  imdb_score  aspect_ratio  \\\n",
              "num_critic_for_reviews                       0.28        0.36          0.24   \n",
              "duration                                     0.15        0.38          0.18   \n",
              "director_facebook_likes                      0.12        0.22          0.06   \n",
              "actor_3_facebook_likes                       0.54        0.09          0.07   \n",
              "actor_1_facebook_likes                       0.38        0.12          0.07   \n",
              "gross                                        0.24        0.26          0.13   \n",
              "num_voted_users                              0.25        0.50          0.14   \n",
              "cast_total_facebook_likes                    0.62        0.13          0.09   \n",
              "facenumber_in_poster                         0.07       -0.08          0.01   \n",
              "num_user_for_reviews                         0.20        0.34          0.15   \n",
              "budget                                       0.24        0.07          0.20   \n",
              "title_year                                   0.12       -0.14          0.12   \n",
              "actor_2_facebook_likes                       1.00        0.12          0.09   \n",
              "imdb_score                                   0.12        1.00          0.04   \n",
              "aspect_ratio                                 0.09        0.04          1.00   \n",
              "movie_facebook_likes                         0.24        0.29          0.12   \n",
              "\n",
              "                           movie_facebook_likes  \n",
              "num_critic_for_reviews                     0.70  \n",
              "duration                                   0.25  \n",
              "director_facebook_likes                    0.18  \n",
              "actor_3_facebook_likes                     0.30  \n",
              "actor_1_facebook_likes                     0.13  \n",
              "gross                                      0.38  \n",
              "num_voted_users                            0.53  \n",
              "cast_total_facebook_likes                  0.21  \n",
              "facenumber_in_poster                       0.01  \n",
              "num_user_for_reviews                       0.40  \n",
              "budget                                     0.33  \n",
              "title_year                                 0.28  \n",
              "actor_2_facebook_likes                     0.24  \n",
              "imdb_score                                 0.29  \n",
              "aspect_ratio                               0.12  \n",
              "movie_facebook_likes                       1.00  "
            ]
          },
          "metadata": {
            "tags": []
          },
          "execution_count": 21
        }
      ]
    },
    {
      "cell_type": "code",
      "metadata": {
        "id": "Wtbxz252tPpC",
        "colab_type": "code",
        "outputId": "2c3fa5f8-97e1-4fdd-a02d-435abe29eb3c",
        "colab": {
          "base_uri": "https://localhost:8080/",
          "height": 720
        }
      },
      "source": [
        "# Set up the matplotlib figure\n",
        "f, ax = plt.subplots(figsize=(12, 10))\n",
        "plt.title('Pearson Correlation of Movie Features')\n",
        "\n",
        "# Draw the heatmap using seaborn\n",
        "sns.heatmap(data.corr(),linewidths=0.25,vmax=1.0, square=True, cmap=\"YlGnBu\", linecolor='black', annot=True)"
      ],
      "execution_count": 0,
      "outputs": [
        {
          "output_type": "execute_result",
          "data": {
            "text/plain": [
              "<matplotlib.axes._subplots.AxesSubplot at 0x7fdf9bb8f3c8>"
            ]
          },
          "metadata": {
            "tags": []
          },
          "execution_count": 22
        },
        {
          "output_type": "display_data",
          "data": {
            "image/png": "[encoded data removed]",
            "text/plain": [
              "<matplotlib.figure.Figure at 0x7fdf9bbbcf98>"
            ]
          },
          "metadata": {
            "tags": []
          }
        }
      ]
    },
    {
      "cell_type": "markdown",
      "metadata": {
        "id": "HsgXC6RKtYm7",
        "colab_type": "text"
      },
      "source": [
        "As we can see from the heatmap, there are regions (features) where we can see quite positive linear correlations amongst each other, given the darker shade of the colours - top left-hand corner and bottom right quarter. This is a good sign as it means we may be able to find linearly correlated features for which we can perform PCA projections on."
      ]
    },
    {
      "cell_type": "code",
      "metadata": {
        "id": "EXmfitL2tS0y",
        "colab_type": "code",
        "outputId": "3f0c6aec-528d-4b05-ed5b-8735a42b1a8c",
        "colab": {
          "base_uri": "https://localhost:8080/",
          "height": 306
        }
      },
      "source": [
        "data.corr()['gross'].sort_values(ascending=False)"
      ],
      "execution_count": 0,
      "outputs": [
        {
          "output_type": "execute_result",
          "data": {
            "text/plain": [
              "gross                        1.00\n",
              "budget                       0.65\n",
              "num_voted_users              0.64\n",
              "num_user_for_reviews         0.56\n",
              "num_critic_for_reviews       0.49\n",
              "movie_facebook_likes         0.38\n",
              "duration                     0.29\n",
              "actor_3_facebook_likes       0.28\n",
              "imdb_score                   0.26\n",
              "actor_2_facebook_likes       0.24\n",
              "cast_total_facebook_likes    0.22\n",
              "director_facebook_likes      0.14\n",
              "actor_1_facebook_likes       0.13\n",
              "aspect_ratio                 0.13\n",
              "title_year                   0.03\n",
              "facenumber_in_poster        -0.03\n",
              "Name: gross, dtype: float64"
            ]
          },
          "metadata": {
            "tags": []
          },
          "execution_count": 23
        }
      ]
    },
    {
      "cell_type": "markdown",
      "metadata": {
        "id": "B9LUvLnDtbW7",
        "colab_type": "text"
      },
      "source": [
        "\n",
        "The gross box office correlates strongly with num_voted_users, num_users_for_reviews and movie_facebook_likes. But some of those features are also highly correlated among each other (as you can see in the heatmap above).\n",
        "\n"
      ]
    },
    {
      "cell_type": "markdown",
      "metadata": {
        "id": "hZZyK-4XtbmS",
        "colab_type": "text"
      },
      "source": [
        "## Gross Box Office Prediction\n"
      ]
    },
    {
      "cell_type": "markdown",
      "metadata": {
        "id": "DXhf3UvItbwU",
        "colab_type": "text"
      },
      "source": [
        "### Getting numerical data\n"
      ]
    },
    {
      "cell_type": "code",
      "metadata": {
        "id": "wf2i-mJCtaN7",
        "colab_type": "code",
        "outputId": "1c166e11-cf05-4088-8511-4d88e64c3cd1",
        "colab": {
          "base_uri": "https://localhost:8080/",
          "height": 131
        }
      },
      "source": [
        "numerical_columns = data.dtypes[data.dtypes != 'object'].index\n",
        "numerical_data = data[numerical_columns]\n",
        "\n",
        "# we drop aspect_ratio, as it doesn't provide any useful info\n",
        "numerical_data.drop('aspect_ratio', axis=1, inplace=True)\n",
        "numerical_data.head(2)"
      ],
      "execution_count": 0,
      "outputs": [
        {
          "output_type": "execute_result",
          "data": {
            "text/html": [
              "<div>\n",
              "<style scoped>\n",
              "    .dataframe tbody tr th:only-of-type {\n",
              "        vertical-align: middle;\n",
              "    }\n",
              "\n",
              "    .dataframe tbody tr th {\n",
              "        vertical-align: top;\n",
              "    }\n",
              "\n",
              "    .dataframe thead th {\n",
              "        text-align: right;\n",
              "    }\n",
              "</style>\n",
              "<table border=\"1\" class=\"dataframe\">\n",
              "  <thead>\n",
              "    <tr style=\"text-align: right;\">\n",
              "      <th></th>\n",
              "      <th>num_critic_for_reviews</th>\n",
              "      <th>duration</th>\n",
              "      <th>director_facebook_likes</th>\n",
              "      <th>actor_3_facebook_likes</th>\n",
              "      <th>actor_1_facebook_likes</th>\n",
              "      <th>gross</th>\n",
              "      <th>num_voted_users</th>\n",
              "      <th>cast_total_facebook_likes</th>\n",
              "      <th>facenumber_in_poster</th>\n",
              "      <th>num_user_for_reviews</th>\n",
              "      <th>budget</th>\n",
              "      <th>title_year</th>\n",
              "      <th>actor_2_facebook_likes</th>\n",
              "      <th>imdb_score</th>\n",
              "      <th>movie_facebook_likes</th>\n",
              "    </tr>\n",
              "  </thead>\n",
              "  <tbody>\n",
              "    <tr>\n",
              "      <th>0</th>\n",
              "      <td>723.00</td>\n",
              "      <td>178.00</td>\n",
              "      <td>0.00</td>\n",
              "      <td>855.00</td>\n",
              "      <td>1,000.00</td>\n",
              "      <td>760,505,847.00</td>\n",
              "      <td>886204</td>\n",
              "      <td>4834</td>\n",
              "      <td>0.00</td>\n",
              "      <td>3,054.00</td>\n",
              "      <td>237,000,000.00</td>\n",
              "      <td>2,009.00</td>\n",
              "      <td>936.00</td>\n",
              "      <td>7.90</td>\n",
              "      <td>33000</td>\n",
              "    </tr>\n",
              "    <tr>\n",
              "      <th>1</th>\n",
              "      <td>302.00</td>\n",
              "      <td>169.00</td>\n",
              "      <td>563.00</td>\n",
              "      <td>1,000.00</td>\n",
              "      <td>40,000.00</td>\n",
              "      <td>309,404,152.00</td>\n",
              "      <td>471220</td>\n",
              "      <td>48350</td>\n",
              "      <td>0.00</td>\n",
              "      <td>1,238.00</td>\n",
              "      <td>300,000,000.00</td>\n",
              "      <td>2,007.00</td>\n",
              "      <td>5,000.00</td>\n",
              "      <td>7.10</td>\n",
              "      <td>0</td>\n",
              "    </tr>\n",
              "  </tbody>\n",
              "</table>\n",
              "</div>"
            ],
            "text/plain": [
              "   num_critic_for_reviews  duration  director_facebook_likes  \\\n",
              "0                  723.00    178.00                     0.00   \n",
              "1                  302.00    169.00                   563.00   \n",
              "\n",
              "   actor_3_facebook_likes  actor_1_facebook_likes          gross  \\\n",
              "0                  855.00                1,000.00 760,505,847.00   \n",
              "1                1,000.00               40,000.00 309,404,152.00   \n",
              "\n",
              "   num_voted_users  cast_total_facebook_likes  facenumber_in_poster  \\\n",
              "0           886204                       4834                  0.00   \n",
              "1           471220                      48350                  0.00   \n",
              "\n",
              "   num_user_for_reviews         budget  title_year  actor_2_facebook_likes  \\\n",
              "0              3,054.00 237,000,000.00    2,009.00                  936.00   \n",
              "1              1,238.00 300,000,000.00    2,007.00                5,000.00   \n",
              "\n",
              "   imdb_score  movie_facebook_likes  \n",
              "0        7.90                 33000  \n",
              "1        7.10                     0  "
            ]
          },
          "metadata": {
            "tags": []
          },
          "execution_count": 24
        }
      ]
    },
    {
      "cell_type": "markdown",
      "metadata": {
        "id": "9btt1Ew7tkTu",
        "colab_type": "text"
      },
      "source": [
        "### Preparing train and test datasets"
      ]
    },
    {
      "cell_type": "code",
      "metadata": {
        "id": "ZMdqysKftiiq",
        "colab_type": "code",
        "colab": {}
      },
      "source": [
        "train, test = train_test_split(numerical_data, test_size=0.2)\n",
        "target_train = train.pop('gross')\n",
        "target_test = test.pop('gross')"
      ],
      "execution_count": 0,
      "outputs": []
    },
    {
      "cell_type": "code",
      "metadata": {
        "id": "wS-GRbMDtmBC",
        "colab_type": "code",
        "outputId": "47e1155e-1680-410d-cde9-cb8f144c7402",
        "colab": {
          "base_uri": "https://localhost:8080/",
          "height": 51
        }
      },
      "source": [
        "print('Train data: {} / {} = {}'.format(len(train), len(numerical_data), float(len(train)/len(numerical_data))))\n",
        "print('Test data: {} / {} = {}'.format(len(test), len(numerical_data), float(len(test)/len(numerical_data))))"
      ],
      "execution_count": 0,
      "outputs": [
        {
          "output_type": "stream",
          "text": [
            "Train data: 2523 / 3154 = 0.7999365884590995\n",
            "Test data: 631 / 3154 = 0.20006341154090043\n"
          ],
          "name": "stdout"
        }
      ]
    },
    {
      "cell_type": "markdown",
      "metadata": {
        "id": "-0dnUJNztqAN",
        "colab_type": "text"
      },
      "source": [
        "### Linear Regression"
      ]
    },
    {
      "cell_type": "code",
      "metadata": {
        "id": "dv1uQFsJtn8K",
        "colab_type": "code",
        "outputId": "53bec641-704c-4a13-f229-3ebd39ae7912",
        "colab": {
          "base_uri": "https://localhost:8080/",
          "height": 51
        }
      },
      "source": [
        "model = LinearRegression()\n",
        "model.fit(train, target_train)"
      ],
      "execution_count": 0,
      "outputs": [
        {
          "output_type": "execute_result",
          "data": {
            "text/plain": [
              "LinearRegression(copy_X=True, fit_intercept=True, n_jobs=None,\n",
              "         normalize=False)"
            ]
          },
          "metadata": {
            "tags": []
          },
          "execution_count": 27
        }
      ]
    },
    {
      "cell_type": "code",
      "metadata": {
        "id": "egvT0sdbtqZM",
        "colab_type": "code",
        "colab": {}
      },
      "source": [
        "prediction = model.predict(test)"
      ],
      "execution_count": 0,
      "outputs": []
    },
    {
      "cell_type": "code",
      "metadata": {
        "id": "4g00UtlOttsE",
        "colab_type": "code",
        "outputId": "8d485fd4-4e71-43af-b6fc-79a9a74cdfa5",
        "colab": {
          "base_uri": "https://localhost:8080/",
          "height": 323
        }
      },
      "source": [
        "# The mean squared error\n",
        "print(\"Mean squared error: %.2f\" % mean_squared_error(target_test, prediction))\n",
        "\n",
        "# Explained variance score: 1 is perfect prediction\n",
        "print('Variance score: %.2f' % r2_score(target_test, prediction))\n",
        "\n",
        "# Plot outputs\n",
        "plt.scatter(target_test, prediction,  color='black')\n",
        "# plt.plot(test, prediction, color='blue', linewidth=3)\n",
        "\n",
        "\n",
        "plt.show()"
      ],
      "execution_count": 0,
      "outputs": [
        {
          "output_type": "stream",
          "text": [
            "Mean squared error: 2101168956017094.75\n",
            "Variance score: 0.63\n"
          ],
          "name": "stdout"
        },
        {
          "output_type": "display_data",
          "data": {
            "image/png": "[encoded data removed]",
            "text/plain": [
              "<matplotlib.figure.Figure at 0x7fdf9f9430f0>"
            ]
          },
          "metadata": {
            "tags": []
          }
        }
      ]
    },
    {
      "cell_type": "markdown",
      "metadata": {
        "id": "DjqPqKhStwZl",
        "colab_type": "text"
      },
      "source": [
        "### Random Forest"
      ]
    },
    {
      "cell_type": "code",
      "metadata": {
        "id": "lfIc4Iuttuts",
        "colab_type": "code",
        "outputId": "499db21e-a227-444f-9f67-861e8289b528",
        "colab": {
          "base_uri": "https://localhost:8080/",
          "height": 119
        }
      },
      "source": [
        "forest = RandomForestRegressor(\n",
        "    max_depth=25,\n",
        "    min_samples_split=15,\n",
        "    n_estimators=1000,\n",
        "    random_state=1)\n",
        "\n",
        "forest.fit(train, target_train)"
      ],
      "execution_count": 0,
      "outputs": [
        {
          "output_type": "execute_result",
          "data": {
            "text/plain": [
              "RandomForestRegressor(bootstrap=True, criterion='mse', max_depth=25,\n",
              "           max_features='auto', max_leaf_nodes=None,\n",
              "           min_impurity_decrease=0.0, min_impurity_split=None,\n",
              "           min_samples_leaf=1, min_samples_split=15,\n",
              "           min_weight_fraction_leaf=0.0, n_estimators=1000, n_jobs=None,\n",
              "           oob_score=False, random_state=1, verbose=0, warm_start=False)"
            ]
          },
          "metadata": {
            "tags": []
          },
          "execution_count": 30
        }
      ]
    },
    {
      "cell_type": "code",
      "metadata": {
        "id": "Zd3GWVHZtw0c",
        "colab_type": "code",
        "outputId": "001f4679-4882-40e0-d4a0-4dc461d699ae",
        "colab": {
          "base_uri": "https://localhost:8080/",
          "height": 68
        }
      },
      "source": [
        "forest.feature_importances_"
      ],
      "execution_count": 0,
      "outputs": [
        {
          "output_type": "execute_result",
          "data": {
            "text/plain": [
              "array([0.02759099, 0.02548293, 0.01400435, 0.01292756, 0.01403615,\n",
              "       0.53922802, 0.01472666, 0.00550216, 0.02532859, 0.23531071,\n",
              "       0.03872432, 0.01043675, 0.02132588, 0.01537494])"
            ]
          },
          "metadata": {
            "tags": []
          },
          "execution_count": 31
        }
      ]
    },
    {
      "cell_type": "code",
      "metadata": {
        "id": "EjKO0uFMt0EQ",
        "colab_type": "code",
        "colab": {}
      },
      "source": [
        "forest_prediction = forest.predict(test)"
      ],
      "execution_count": 0,
      "outputs": []
    },
    {
      "cell_type": "code",
      "metadata": {
        "id": "YoGlXiR1t1wM",
        "colab_type": "code",
        "outputId": "adeb469a-0640-412b-a7f5-520dc1c9e9fa",
        "colab": {
          "base_uri": "https://localhost:8080/",
          "height": 323
        }
      },
      "source": [
        "# The mean squared error\n",
        "print(\"Mean squared error: %.2f\" % mean_squared_error(target_test, forest_prediction))\n",
        "\n",
        "# Explained variance score: 1 is perfect prediction\n",
        "print('Variance score: %.2f' % r2_score(target_test, forest_prediction))\n",
        "\n",
        "# Plot outputs\n",
        "plt.scatter(target_test, forest_prediction,  color='black')\n",
        "# plt.plot(test, prediction, color='blue', linewidth=3)\n",
        "\n",
        "\n",
        "plt.show()"
      ],
      "execution_count": 0,
      "outputs": [
        {
          "output_type": "stream",
          "text": [
            "Mean squared error: 1675051734958121.50\n",
            "Variance score: 0.71\n"
          ],
          "name": "stdout"
        },
        {
          "output_type": "display_data",
          "data": {
            "image/png": "[encoded data removed]",
            "text/plain": [
              "<matplotlib.figure.Figure at 0x7fdf9f93f400>"
            ]
          },
          "metadata": {
            "tags": []
          }
        }
      ]
    },
    {
      "cell_type": "markdown",
      "metadata": {
        "id": "ZmhD-RaNt6p7",
        "colab_type": "text"
      },
      "source": [
        "## Dropping post-fact data"
      ]
    },
    {
      "cell_type": "markdown",
      "metadata": {
        "id": "7k4_neWet8PV",
        "colab_type": "text"
      },
      "source": [
        "There are post-fact variables in our data set making the prediction more accurate. Things like `num_voted_users` and `num_user_for_reviews` are after the fact metrics, so probably not as useful for prediction."
      ]
    },
    {
      "cell_type": "code",
      "metadata": {
        "id": "JBlIUAAOt47U",
        "colab_type": "code",
        "outputId": "3e21e86c-5355-41ea-a4bb-ccea589453b6",
        "colab": {
          "base_uri": "https://localhost:8080/",
          "height": 131
        }
      },
      "source": [
        "train.head(2)"
      ],
      "execution_count": 0,
      "outputs": [
        {
          "output_type": "execute_result",
          "data": {
            "text/html": [
              "<div>\n",
              "<style scoped>\n",
              "    .dataframe tbody tr th:only-of-type {\n",
              "        vertical-align: middle;\n",
              "    }\n",
              "\n",
              "    .dataframe tbody tr th {\n",
              "        vertical-align: top;\n",
              "    }\n",
              "\n",
              "    .dataframe thead th {\n",
              "        text-align: right;\n",
              "    }\n",
              "</style>\n",
              "<table border=\"1\" class=\"dataframe\">\n",
              "  <thead>\n",
              "    <tr style=\"text-align: right;\">\n",
              "      <th></th>\n",
              "      <th>num_critic_for_reviews</th>\n",
              "      <th>duration</th>\n",
              "      <th>director_facebook_likes</th>\n",
              "      <th>actor_3_facebook_likes</th>\n",
              "      <th>actor_1_facebook_likes</th>\n",
              "      <th>num_voted_users</th>\n",
              "      <th>cast_total_facebook_likes</th>\n",
              "      <th>facenumber_in_poster</th>\n",
              "      <th>num_user_for_reviews</th>\n",
              "      <th>budget</th>\n",
              "      <th>title_year</th>\n",
              "      <th>actor_2_facebook_likes</th>\n",
              "      <th>imdb_score</th>\n",
              "      <th>movie_facebook_likes</th>\n",
              "    </tr>\n",
              "  </thead>\n",
              "  <tbody>\n",
              "    <tr>\n",
              "      <th>233</th>\n",
              "      <td>168.00</td>\n",
              "      <td>121.00</td>\n",
              "      <td>274.00</td>\n",
              "      <td>157.00</td>\n",
              "      <td>273.00</td>\n",
              "      <td>35066</td>\n",
              "      <td>993</td>\n",
              "      <td>4.00</td>\n",
              "      <td>196.00</td>\n",
              "      <td>120,000,000.00</td>\n",
              "      <td>2,010.00</td>\n",
              "      <td>216.00</td>\n",
              "      <td>5.30</td>\n",
              "      <td>0</td>\n",
              "    </tr>\n",
              "    <tr>\n",
              "      <th>4807</th>\n",
              "      <td>8.00</td>\n",
              "      <td>84.00</td>\n",
              "      <td>0.00</td>\n",
              "      <td>36.00</td>\n",
              "      <td>169.00</td>\n",
              "      <td>191</td>\n",
              "      <td>312</td>\n",
              "      <td>0.00</td>\n",
              "      <td>10.00</td>\n",
              "      <td>21,000,000.00</td>\n",
              "      <td>2,002.00</td>\n",
              "      <td>80.00</td>\n",
              "      <td>5.80</td>\n",
              "      <td>7</td>\n",
              "    </tr>\n",
              "  </tbody>\n",
              "</table>\n",
              "</div>"
            ],
            "text/plain": [
              "      num_critic_for_reviews  duration  director_facebook_likes  \\\n",
              "233                   168.00    121.00                   274.00   \n",
              "4807                    8.00     84.00                     0.00   \n",
              "\n",
              "      actor_3_facebook_likes  actor_1_facebook_likes  num_voted_users  \\\n",
              "233                   157.00                  273.00            35066   \n",
              "4807                   36.00                  169.00              191   \n",
              "\n",
              "      cast_total_facebook_likes  facenumber_in_poster  num_user_for_reviews  \\\n",
              "233                         993                  4.00                196.00   \n",
              "4807                        312                  0.00                 10.00   \n",
              "\n",
              "             budget  title_year  actor_2_facebook_likes  imdb_score  \\\n",
              "233  120,000,000.00    2,010.00                  216.00        5.30   \n",
              "4807  21,000,000.00    2,002.00                   80.00        5.80   \n",
              "\n",
              "      movie_facebook_likes  \n",
              "233                      0  \n",
              "4807                     7  "
            ]
          },
          "metadata": {
            "tags": []
          },
          "execution_count": 34
        }
      ]
    },
    {
      "cell_type": "code",
      "metadata": {
        "id": "DBkAVp9Bt7E7",
        "colab_type": "code",
        "outputId": "fa57dd0c-9ed6-4f16-99e3-9ea9dd73e8de",
        "colab": {
          "base_uri": "https://localhost:8080/",
          "height": 111
        }
      },
      "source": [
        "train.drop(['num_critic_for_reviews', 'num_voted_users', 'num_user_for_reviews', 'imdb_score', 'movie_facebook_likes'], axis=1, inplace=True)\n",
        "test.drop(['num_critic_for_reviews', 'num_voted_users', 'num_user_for_reviews', 'imdb_score', 'movie_facebook_likes'], axis=1, inplace=True)\n",
        "train.head(2)"
      ],
      "execution_count": 0,
      "outputs": [
        {
          "output_type": "execute_result",
          "data": {
            "text/html": [
              "<div>\n",
              "<style scoped>\n",
              "    .dataframe tbody tr th:only-of-type {\n",
              "        vertical-align: middle;\n",
              "    }\n",
              "\n",
              "    .dataframe tbody tr th {\n",
              "        vertical-align: top;\n",
              "    }\n",
              "\n",
              "    .dataframe thead th {\n",
              "        text-align: right;\n",
              "    }\n",
              "</style>\n",
              "<table border=\"1\" class=\"dataframe\">\n",
              "  <thead>\n",
              "    <tr style=\"text-align: right;\">\n",
              "      <th></th>\n",
              "      <th>duration</th>\n",
              "      <th>director_facebook_likes</th>\n",
              "      <th>actor_3_facebook_likes</th>\n",
              "      <th>actor_1_facebook_likes</th>\n",
              "      <th>cast_total_facebook_likes</th>\n",
              "      <th>facenumber_in_poster</th>\n",
              "      <th>budget</th>\n",
              "      <th>title_year</th>\n",
              "      <th>actor_2_facebook_likes</th>\n",
              "    </tr>\n",
              "  </thead>\n",
              "  <tbody>\n",
              "    <tr>\n",
              "      <th>233</th>\n",
              "      <td>121.00</td>\n",
              "      <td>274.00</td>\n",
              "      <td>157.00</td>\n",
              "      <td>273.00</td>\n",
              "      <td>993</td>\n",
              "      <td>4.00</td>\n",
              "      <td>120,000,000.00</td>\n",
              "      <td>2,010.00</td>\n",
              "      <td>216.00</td>\n",
              "    </tr>\n",
              "    <tr>\n",
              "      <th>4807</th>\n",
              "      <td>84.00</td>\n",
              "      <td>0.00</td>\n",
              "      <td>36.00</td>\n",
              "      <td>169.00</td>\n",
              "      <td>312</td>\n",
              "      <td>0.00</td>\n",
              "      <td>21,000,000.00</td>\n",
              "      <td>2,002.00</td>\n",
              "      <td>80.00</td>\n",
              "    </tr>\n",
              "  </tbody>\n",
              "</table>\n",
              "</div>"
            ],
            "text/plain": [
              "      duration  director_facebook_likes  actor_3_facebook_likes  \\\n",
              "233     121.00                   274.00                  157.00   \n",
              "4807     84.00                     0.00                   36.00   \n",
              "\n",
              "      actor_1_facebook_likes  cast_total_facebook_likes  facenumber_in_poster  \\\n",
              "233                   273.00                        993                  4.00   \n",
              "4807                  169.00                        312                  0.00   \n",
              "\n",
              "             budget  title_year  actor_2_facebook_likes  \n",
              "233  120,000,000.00    2,010.00                  216.00  \n",
              "4807  21,000,000.00    2,002.00                   80.00  "
            ]
          },
          "metadata": {
            "tags": []
          },
          "execution_count": 35
        }
      ]
    },
    {
      "cell_type": "code",
      "metadata": {
        "id": "8iObCWqFuAL8",
        "colab_type": "code",
        "outputId": "857622db-7583-4878-b10d-efeb27277b2a",
        "colab": {
          "base_uri": "https://localhost:8080/",
          "height": 119
        }
      },
      "source": [
        "pre_data_forest = RandomForestRegressor(\n",
        "    max_depth=25,\n",
        "    min_samples_split=15,\n",
        "    n_estimators=1000,\n",
        "    random_state=1)\n",
        "\n",
        "pre_data_forest.fit(train, target_train)"
      ],
      "execution_count": 0,
      "outputs": [
        {
          "output_type": "execute_result",
          "data": {
            "text/plain": [
              "RandomForestRegressor(bootstrap=True, criterion='mse', max_depth=25,\n",
              "           max_features='auto', max_leaf_nodes=None,\n",
              "           min_impurity_decrease=0.0, min_impurity_split=None,\n",
              "           min_samples_leaf=1, min_samples_split=15,\n",
              "           min_weight_fraction_leaf=0.0, n_estimators=1000, n_jobs=None,\n",
              "           oob_score=False, random_state=1, verbose=0, warm_start=False)"
            ]
          },
          "metadata": {
            "tags": []
          },
          "execution_count": 36
        }
      ]
    },
    {
      "cell_type": "code",
      "metadata": {
        "id": "3C6E-x6juBUs",
        "colab_type": "code",
        "colab": {}
      },
      "source": [
        "second_prediction = pre_data_forest.predict(test)"
      ],
      "execution_count": 0,
      "outputs": []
    },
    {
      "cell_type": "code",
      "metadata": {
        "id": "imN4B2j0uCZ0",
        "colab_type": "code",
        "outputId": "f063a4fd-5b93-4ef0-c0ac-dea05c027f46",
        "colab": {
          "base_uri": "https://localhost:8080/",
          "height": 323
        }
      },
      "source": [
        "# The mean squared error\n",
        "print(\"Mean squared error: %.2f\" % mean_squared_error(target_test, second_prediction))\n",
        "\n",
        "# Explained variance score: 1 is perfect prediction\n",
        "print('Variance score: %.2f' % r2_score(target_test, second_prediction))\n",
        "\n",
        "# Plot outputs\n",
        "plt.scatter(target_test, second_prediction,  color='black')\n",
        "# plt.plot(test, prediction, color='blue', linewidth=3)\n",
        "\n",
        "\n",
        "plt.show()"
      ],
      "execution_count": 0,
      "outputs": [
        {
          "output_type": "stream",
          "text": [
            "Mean squared error: 2953103718836269.50\n",
            "Variance score: 0.48\n"
          ],
          "name": "stdout"
        },
        {
          "output_type": "display_data",
          "data": {
            "image/png": "[encoded data removed]",
            "text/plain": [
              "<matplotlib.figure.Figure at 0x7fdf9b99dfd0>"
            ]
          },
          "metadata": {
            "tags": []
          }
        }
      ]
    },
    {
      "cell_type": "markdown",
      "metadata": {
        "id": "wJpKVvdLuFMy",
        "colab_type": "text"
      },
      "source": [
        "## Over/Under performing movies"
      ]
    },
    {
      "cell_type": "code",
      "metadata": {
        "id": "Y2-_m3gvuDqj",
        "colab_type": "code",
        "colab": {}
      },
      "source": [
        "numerical_data_target = numerical_data.pop('gross')\n",
        "all_data_prediction = forest.predict(numerical_data)"
      ],
      "execution_count": 0,
      "outputs": []
    },
    {
      "cell_type": "code",
      "metadata": {
        "id": "DTDwLPTXuFpT",
        "colab_type": "code",
        "colab": {}
      },
      "source": [
        "performance_df = data.copy()\n",
        "\n",
        "performance_df[\"prediction\"] = all_data_prediction\n",
        "performance_df[\"performance_diff\"] = numerical_data_target - all_data_prediction\n",
        "\n",
        "performance_df.sort_values(['performance_diff'], ascending=False, inplace=True)"
      ],
      "execution_count": 0,
      "outputs": []
    },
    {
      "cell_type": "code",
      "metadata": {
        "id": "11Ih3NhguJAz",
        "colab_type": "code",
        "outputId": "823ed123-f7b1-4a8c-8b80-92bce0081ddd",
        "colab": {
          "base_uri": "https://localhost:8080/",
          "height": 671
        }
      },
      "source": [
        "ind = np.arange(5)\n",
        "width = 0.35\n",
        "\n",
        "fig, ax = plt.subplots(figsize=(12, 8))\n",
        "\n",
        "gross = ax.bar(ind, performance_df.gross[:5], width, color='r')\n",
        "predicted_gross = ax.bar(ind + width, performance_df.prediction[:5], width, color='g')\n",
        "\n",
        "plt.title(\"Overperforming movies\")\n",
        "plt.ylabel(\"Gross (in million)\")\n",
        "\n",
        "ax.set_xticks(ind + width / 2)\n",
        "ax.set_xticklabels(performance_df.movie_title[:5], rotation='vertical')\n",
        "ax.legend((gross[0], predicted_gross[0]), ('Gross', 'Prediction'))"
      ],
      "execution_count": 0,
      "outputs": [
        {
          "output_type": "execute_result",
          "data": {
            "text/plain": [
              "<matplotlib.legend.Legend at 0x7fdf978529b0>"
            ]
          },
          "metadata": {
            "tags": []
          },
          "execution_count": 41
        },
        {
          "output_type": "display_data",
          "data": {
            "image/png": "[encoded data removed]",
            "text/plain": [
              "<matplotlib.figure.Figure at 0x7fdf9b908cf8>"
            ]
          },
          "metadata": {
            "tags": []
          }
        }
      ]
    },
    {
      "cell_type": "code",
      "metadata": {
        "id": "st3LrQuwuKfq",
        "colab_type": "code",
        "outputId": "e3ccc37e-bec6-4c76-88e7-3b133bce85b7",
        "colab": {
          "base_uri": "https://localhost:8080/",
          "height": 590
        }
      },
      "source": [
        "\n",
        "\n",
        "ind = np.arange(5)\n",
        "width = 0.35\n",
        "\n",
        "fig, ax = plt.subplots(figsize=(12, 8))\n",
        "\n",
        "gross = ax.bar(ind, performance_df.gross[:-6:-1], width, color='r')\n",
        "predicted_gross = ax.bar(ind + width, performance_df.prediction[:-6:-1], width, color='g')\n",
        "\n",
        "plt.title(\"Overperforming movies\")\n",
        "plt.ylabel(\"Gross (in million)\")\n",
        "\n",
        "ax.set_xticks(ind + width / 2)\n",
        "ax.set_xticklabels(performance_df.movie_title[:-6:-1], rotation='vertical')\n",
        "ax.legend((gross[0], predicted_gross[0]), ('Gross', 'Prediction'))"
      ],
      "execution_count": 0,
      "outputs": [
        {
          "output_type": "execute_result",
          "data": {
            "text/plain": [
              "<matplotlib.legend.Legend at 0x7fdf97776d68>"
            ]
          },
          "metadata": {
            "tags": []
          },
          "execution_count": 42
        },
        {
          "output_type": "display_data",
          "data": {
            "image/png": "[encoded data removed]",
            "text/plain": [
              "<matplotlib.figure.Figure at 0x7fdf9b962e80>"
            ]
          },
          "metadata": {
            "tags": []
          }
        }
      ]
    },
    {
      "cell_type": "code",
      "metadata": {
        "id": "FJT4Hjy9uL5r",
        "colab_type": "code",
        "colab": {}
      },
      "source": [
        ""
      ],
      "execution_count": 0,
      "outputs": []
    }
  ]
}